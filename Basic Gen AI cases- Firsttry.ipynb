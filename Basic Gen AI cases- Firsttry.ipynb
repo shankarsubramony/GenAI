{
  "nbformat": 4,
  "nbformat_minor": 0,
  "metadata": {
    "colab": {
      "provenance": [],
      "history_visible": true,
      "authorship_tag": "ABX9TyN0MZNEK7kkOX3gm7jj/+tj",
      "include_colab_link": true
    },
    "kernelspec": {
      "name": "python3",
      "display_name": "Python 3"
    },
    "language_info": {
      "name": "python"
    }
  },
  "cells": [
    {
      "cell_type": "markdown",
      "metadata": {
        "id": "view-in-github",
        "colab_type": "text"
      },
      "source": [
        "<a href=\"https://colab.research.google.com/github/shankarsubramony/GenAI/blob/main/Basic%20Gen%20AI%20cases-%20Firsttry.ipynb\" target=\"_parent\"><img src=\"https://colab.research.google.com/assets/colab-badge.svg\" alt=\"Open In Colab\"/></a>"
      ]
    },
    {
      "cell_type": "code",
      "execution_count": null,
      "metadata": {
        "id": "3YUyzQ74qJfU"
      },
      "outputs": [],
      "source": [
        "%pip install openai"
      ]
    },
    {
      "cell_type": "code",
      "source": [
        "import os\n",
        "import getpass\n",
        "\n",
        "# Prompt the user for the API key without displaying the input\n",
        "os.environ['OPENAI_API_KEY'] = getpass.getpass(\"Enter your API key: \")\n",
        "\n",
        "# You can now use the `api_key` variable to make API requests\n",
        "print(\"API key stored securely.\")\n"
      ],
      "metadata": {
        "id": "Xwlm_W-6qu_h",
        "colab": {
          "base_uri": "https://localhost:8080/"
        },
        "outputId": "0e853469-0154-4042-a155-995829847a78"
      },
      "execution_count": 2,
      "outputs": [
        {
          "output_type": "stream",
          "name": "stdout",
          "text": [
            "Enter your API key: ··········\n",
            "API key stored securely.\n"
          ]
        }
      ]
    },
    {
      "cell_type": "code",
      "source": [
        "from openai import OpenAI\n",
        "client = OpenAI()\n",
        "\n",
        "# Replace 'your_api_key' with your actual OpenAI API key\n",
        "#api_key = 'your_api_key'\n",
        "\n",
        "# Initialize the OpenAI client with your API key\n",
        "\n",
        "# Example: Generate text using the API\n",
        "response = client.chat.completions.create(\n",
        "    model=\"gpt-3.5-turbo\",\n",
        "    messages=[{'role': 'user', 'content': \"What are the responsibilities of an Generative AI architect?\"}],\n",
        "    max_tokens=500\n",
        ")\n",
        "\n",
        "# Print the generated text\n",
        "print(response.choices[0].message.content)"
      ],
      "metadata": {
        "id": "JyoNX2PXr0bY",
        "colab": {
          "base_uri": "https://localhost:8080/"
        },
        "outputId": "a0e674d4-cc4d-4163-d4e1-624895616ba5"
      },
      "execution_count": 3,
      "outputs": [
        {
          "output_type": "stream",
          "name": "stdout",
          "text": [
            "1. Define the architecture and design of generative AI models and systems based on the requirements of the project or application.\n",
            "2. Research and stay updated on the latest advancements in generative AI technologies and techniques.\n",
            "3. Collaborate with cross-functional teams, including data scientists, software engineers, and domain experts, to integrate generative AI models into applications or systems.\n",
            "4. Develop and implement algorithms and models for generating realistic and diverse outputs using techniques such as deep learning, GANs, and reinforcement learning.\n",
            "5. Optimize and fine-tune generative AI models to improve performance, efficiency, and scalability.\n",
            "6. Troubleshoot and debug issues related to generative AI models, and propose solutions to improve performance and accuracy.\n",
            "7. Ensure the security and confidentiality of data used in generative AI models, and follow best practices for data privacy and compliance.\n",
            "8. Collaborate with stakeholders to define project goals, scope, and deliverables, and communicate progress and results effectively.\n",
            "9. Maintain documentation and provide training and support to other team members on generative AI techniques and best practices.\n",
            "10. Stay current with new technologies, tools, and methodologies related to generative AI, and experiment with innovative approaches to enhance model capabilities.\n"
          ]
        }
      ]
    },
    {
      "cell_type": "markdown",
      "source": [
        "Code snippet that would call GPT3.5 model as an assistant"
      ],
      "metadata": {
        "id": "tMsN4TQMx8kk"
      }
    },
    {
      "cell_type": "code",
      "source": [
        "from openai import OpenAI\n",
        "client = OpenAI()\n",
        "\n",
        "\n",
        "# Define the chat conversation\n",
        "chat_history = [\n",
        "    {'role': 'system', 'content': 'You are a helpful assistant.'},\n",
        "    {'role': 'user', 'content': 'What are the responsibilities of an Generative AI architect?'}\n",
        "]\n",
        "\n",
        "# Send the question to OpenAI and get a response\n",
        "response = client.chat.completions.create(\n",
        "    model=\"gpt-3.5-turbo\",\n",
        "    messages=chat_history,\n",
        "    temperature=0.7,\n",
        "    max_tokens=50\n",
        ")\n",
        "\n",
        "# Print the assistant's reply\n",
        "print(response.choices[0].message.content)\n"
      ],
      "metadata": {
        "id": "qzB7AIOwlNjj",
        "colab": {
          "base_uri": "https://localhost:8080/"
        },
        "outputId": "bc54aceb-c751-4051-a950-c7f177d63bdf"
      },
      "execution_count": 5,
      "outputs": [
        {
          "output_type": "stream",
          "name": "stdout",
          "text": [
            "As a Generative AI architect, your responsibilities typically include:\n",
            "\n",
            "1. Designing and developing advanced AI models and algorithms for generative tasks, such as image generation, text generation, and music composition.\n",
            "2. Collaborating with cross-functional teams to understand\n"
          ]
        }
      ]
    },
    {
      "cell_type": "markdown",
      "source": [
        "Code Snippet to transcribe audio file to text.\n",
        "Audio file used - C:\\Users\\shank\\OneDrive\\Documents\\Shankar\\Office\\GenAI\\audio.mp3"
      ],
      "metadata": {
        "id": "sieGpktByQFG"
      }
    },
    {
      "cell_type": "code",
      "source": [
        "import os\n",
        "import openai\n",
        "from openai import OpenAI\n",
        "client = OpenAI()\n",
        "audio_file = open(\"audio.mp3\", \"rb\")\n",
        "transcript = client.audio.transcriptions.create(\n",
        "  model=\"whisper-1\",\n",
        "  file=audio_file,\n",
        "  response_format=\"text\"\n",
        ")\n",
        "print(transcript)"
      ],
      "metadata": {
        "id": "AbDARVQE9CUJ"
      },
      "execution_count": null,
      "outputs": []
    },
    {
      "cell_type": "markdown",
      "source": [
        "Code snippet to create an image from text - Careful with the image size as it is going to eat up lot of dollars $$$$"
      ],
      "metadata": {
        "id": "MzSNGLoy1_sR"
      }
    },
    {
      "cell_type": "code",
      "source": [
        "import os\n",
        "import getpass\n",
        "#print (os.environ['OPENAI_API_KEY'])\n",
        "from openai import OpenAI\n",
        "client = OpenAI()\n",
        "response = client.images.generate(\n",
        "  #model = \"dall-e-3\",\n",
        "  prompt=\"baby riding a bicycle\",\n",
        "  n=1,\n",
        "  size=\"256x256\"\n",
        "  #size =\"1024x1024\"\n",
        ")\n",
        "image_url = response.data[0].url\n",
        "print (image_url)"
      ],
      "metadata": {
        "colab": {
          "base_uri": "https://localhost:8080/"
        },
        "id": "qfxXH-VP0GKn",
        "outputId": "b8b40522-387d-41b3-9b8c-11bdacbf61e9"
      },
      "execution_count": 9,
      "outputs": [
        {
          "output_type": "stream",
          "name": "stdout",
          "text": [
            "https://oaidalleapiprodscus.blob.core.windows.net/private/org-6x5Rz2JECarTOeYKd5LL6V5p/user-UDSj5FD5jyg7ovOPwlSwxFow/img-nAMEuqF9SG3kkltyOv3h5WF0.png?st=2024-03-31T15%3A59%3A09Z&se=2024-03-31T17%3A59%3A09Z&sp=r&sv=2021-08-06&sr=b&rscd=inline&rsct=image/png&skoid=6aaadede-4fb3-4698-a8f6-684d7786b067&sktid=a48cca56-e6da-484e-a814-9c849652bcb3&skt=2024-03-31T00%3A06%3A47Z&ske=2024-04-01T00%3A06%3A47Z&sks=b&skv=2021-08-06&sig=dlj7NC/TYb2nTArlIfHPkVy3BUJrv1WeXXq4//B3Gts%3D\n"
          ]
        }
      ]
    }
  ]
}