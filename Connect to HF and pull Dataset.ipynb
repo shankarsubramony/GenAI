{
  "nbformat": 4,
  "nbformat_minor": 0,
  "metadata": {
    "colab": {
      "provenance": [],
      "authorship_tag": "ABX9TyMRLUvbqBp151vFBdPprwTa",
      "include_colab_link": true
    },
    "kernelspec": {
      "name": "python3",
      "display_name": "Python 3"
    },
    "language_info": {
      "name": "python"
    }
  },
  "cells": [
    {
      "cell_type": "markdown",
      "metadata": {
        "id": "view-in-github",
        "colab_type": "text"
      },
      "source": [
        "<a href=\"https://colab.research.google.com/github/shankarsubramony/GenAI/blob/main/Connect%20to%20HF%20and%20pull%20Dataset.ipynb\" target=\"_parent\"><img src=\"https://colab.research.google.com/assets/colab-badge.svg\" alt=\"Open In Colab\"/></a>"
      ]
    },
    {
      "cell_type": "code",
      "source": [
        "!pip -q install huggingface_hub\n",
        "from huggingface_hub import login\n",
        "huggingface_token = input()\n",
        "login(token = huggingface_token)\n",
        "from datasets import load_dataset\n",
        "dataset_name = \"shankarsubramony/medicare_claim\"\n",
        "instruct_tune_dataset = load_dataset(dataset_name)\n",
        "print(instruct_tune_dataset)\n",
        "instruct_tune_dataset[\"train\"] = instruct_tune_dataset[\"train\"].select(range(2000))"
      ],
      "metadata": {
        "id": "n-5fXYj_C9D_"
      },
      "execution_count": null,
      "outputs": []
    }
  ]
}